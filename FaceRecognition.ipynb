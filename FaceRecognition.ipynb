{
 "cells": [
  {
   "cell_type": "code",
   "execution_count": 1,
   "id": "787421fb-50f8-4b96-856f-4a023308f5cd",
   "metadata": {},
   "outputs": [],
   "source": [
    "#cv2 : computer vision library  \n",
    "import cv2 \n",
    "import face_recognition"
   ]
  },
  {
   "cell_type": "code",
   "execution_count": 13,
   "id": "2b7e4c40-c81a-4e79-ab46-d1c1a361b5d9",
   "metadata": {},
   "outputs": [],
   "source": [
    "# Load the image of the student\n",
    "Rameez = face_recognition.load_image_file('C:/Users/DELL/Pictures/1702399592320.jpeg')\n",
    "# Detect and encode the face (generate embeddings)\n",
    "face_encoding_rameez = face_recognition.face_encodings(Rameez)[0]\n",
    "# Load and encode a new image\n",
    "Umair = face_recognition.load_image_file(\"C:/Users/DELL/Pictures/Camera Roll/download.jpeg\")\n",
    "face_encoding_umair = face_recognition.face_encodings(Umair)[0]\n"
   ]
  },
  {
   "cell_type": "code",
   "execution_count": null,
   "id": "cf9463ae-0407-4004-8b82-df6d07133e58",
   "metadata": {},
   "outputs": [],
   "source": [
    "from pymongo import MongoClient\n",
    "\n",
    "# Connect to MongoDB\n",
    "client = MongoClient('localhost', 27017)\n",
    "db = client['student_database']\n",
    "students = db['students']\n",
    "attendance = db['attendance'] "
   ]
  },
  {
   "cell_type": "code",
   "execution_count": null,
   "id": "0c928550-ba28-4092-a407-d1343b65e2a0",
   "metadata": {},
   "outputs": [],
   "source": [
    "#add entry of new student on mongoDb database along with his/her face encoding for face detection\n",
    "sample_student = {\n",
    "    \"name\": \"Rameez\",\n",
    "    \"semester\": 7,\n",
    "    \"age\": 21,\n",
    "    \"gender\": \"male\",\n",
    "    \"face_encoding\": face_encoding_rameez.tolist()\n",
    "}\n",
    "# This will create the 'students' collection if it doesn't exist\n",
    "students.insert_one(sample_student)\n"
   ]
  },
  {
   "cell_type": "code",
   "execution_count": 17,
   "id": "4ad0175e-badd-444c-b47f-bd7e63b643ed",
   "metadata": {},
   "outputs": [
    {
     "name": "stdout",
     "output_type": "stream",
     "text": [
      "Match found: Rameez, 7\n",
      "Attendance recorded for Rameez\n"
     ]
    }
   ],
   "source": [
    "# first i try face recognition system by providing image path and then below cell i convert this in live face detection\n",
    "# Load a new image and encode the face\n",
    "unknown_image = face_recognition.load_image_file(\"C:/Users/DELL/Pictures/1702399592320.jpeg\")\n",
    "unknown_face_encoding = face_recognition.face_encodings(unknown_image)[0]\n",
    "\n",
    "all_students = students.find()\n",
    "found_match = False\n",
    "\n",
    "for student in all_students:\n",
    "    known_face_encoding = student['face_encoding'] \n",
    "    # Compare the unknown face with known faces using compare_faces method\n",
    "    result = face_recognition.compare_faces([known_face_encoding], unknown_face_encoding)\n",
    "    if result[0]:\n",
    "        print(f\"Match found: {student['name']}, {student['semester']}\")\n",
    "        found_match = True\n",
    "        attendance.update_one(\n",
    "          {'student_id': student['_id'], 'date': '2024-11-04'},  # Use current date\n",
    "          {'$set': {'present': True}}, \n",
    "          upsert=True  # Create entry if it doesn't exist\n",
    "        )\n",
    "        print(f\"Attendance recorded for {student['name']}\")\n",
    "        break\n",
    "\n",
    "if not found_match:\n",
    "    print(\"unknown\")\n",
    "\n"
   ]
  },
  {
   "cell_type": "code",
   "execution_count": 58,
   "id": "c378607c-94e4-44aa-ad95-5f580341e3bb",
   "metadata": {},
   "outputs": [
    {
     "name": "stdout",
     "output_type": "stream",
     "text": [
      "Match found: Rameez, 7\n",
      "Attendance recorded for Rameez\n",
      "No face detected in the webcam frame.\n"
     ]
    }
   ],
   "source": [
    "# live face recognition\n",
    "\n",
    "import numpy as np\n",
    "\n",
    "# Initialize webcam\n",
    "video_capture = cv2.VideoCapture(0)\n",
    "\n",
    "# Capture a single frame to use as the \"unknown\" face\n",
    "ret, frame = video_capture.read()\n",
    "\n",
    "# Convert the frame to RGB (face_recognition library expects RGB format)\n",
    "rgb_frame = cv2.cvtColor(frame, cv2.COLOR_BGR2RGB)\n",
    "\n",
    "# Detect face locations in the frame\n",
    "face_locations = face_recognition.face_locations(rgb_frame)\n",
    "\n",
    "# Detect and encode the face(s) in the frame using the face locations\n",
    "unknown_face_encodings =np.array(face_recognition.face_encodings(rgb_frame, face_locations))\n",
    "\n",
    "# Initialize variable to track if a match is found\n",
    "found_match = False\n",
    "\n",
    "# Retrieve all student records (assuming `students` is your MongoDB collection)\n",
    "all_students = students.find()\n",
    "\n",
    "# Loop through all students to compare known encodings with the unknown face\n",
    "for student in all_students:\n",
    "    known_face_encoding = student['face_encoding'] \n",
    "            \n",
    "            # Compare the unknown face with each student's known face encoding\n",
    "    result = face_recognition.compare_faces([known_face_encoding], unknown_face_encodings)\n",
    "            \n",
    "    if result[0]:  # If a match is found\n",
    "        print(f\"Match found: {student['name']}, {student['semester']}\")\n",
    "        found_match = True\n",
    "                \n",
    "                # Record attendance in MongoDB\n",
    "        attendance.update_one(\n",
    "            {'student_id': student['_id'], 'date': '2024-11-05'},  # Replace with current date as needed\n",
    "            {'$set': {'present': True}}, \n",
    "            upsert=True  # Create entry if it doesn't exist\n",
    "        )\n",
    "        print(f\"Attendance recorded for {student['name']}\")\n",
    "        break  # Exit loop on finding a match\n",
    "\n",
    "if found_match == False:\n",
    "    print(\"Unknown Face Detected\")\n",
    "\n",
    "# Display the captured frame in a window\n",
    "cv2.imshow('Real-Time Face Recognition', frame)\n",
    "\n",
    "# Release the webcam and close any OpenCV windows\n",
    "video_capture.release()\n",
    "cv2.destroyAllWindows()\n"
   ]
  },
  {
   "cell_type": "code",
   "execution_count": 9,
   "id": "af477f2e-b67c-4e08-883f-757c24963218",
   "metadata": {},
   "outputs": [
    {
     "name": "stdout",
     "output_type": "stream",
     "text": [
      "Name: Umair, Semester: 3, Age: 24, Gender: male\n",
      "Name: Rameez, Semester: 7, Age: 21, Gender: male\n"
     ]
    }
   ],
   "source": [
    "all_students = students.find()  # This retrieves all documents\n",
    "\n",
    "# Loop through the results and print each record\n",
    "for student in all_students:\n",
    "    print(f\"Name: {student['name']}, Semester: {student['semester']}, Age: {student['age']}, Gender: {student['gender']}\")"
   ]
  },
  {
   "cell_type": "code",
   "execution_count": 6,
   "id": "eb94e938-a8a6-4334-8f09-533a9d20d6bf",
   "metadata": {},
   "outputs": [],
   "source": [
    "#delete_result = students.delete_one({'name': 'Rameez'})"
   ]
  },
  {
   "cell_type": "code",
   "execution_count": 12,
   "id": "176fdab8-04c7-4ff8-9f73-e6d9863ac552",
   "metadata": {},
   "outputs": [
    {
     "name": "stdout",
     "output_type": "stream",
     "text": [
      "{'_id': ObjectId('672636d8ad62c101c634cc41'), 'date': '2024-10-05', 'student_id': ObjectId('67168736006e5bbd6332fbbb'), 'present': True}\n",
      "{'_id': ObjectId('672637e3ad62c101c634cc7e'), 'student_id': ObjectId('6716851a006e5bbd6332fbb8'), 'date': '2024-10-05', 'present': True}\n",
      "{'_id': ObjectId('67264215ad62c101c634cec6'), 'date': '2024-11-02', 'student_id': ObjectId('6716851a006e5bbd6332fbb8'), 'present': True}\n",
      "{'_id': ObjectId('672a4e00ad62c101c634d687'), 'date': '2024-11-03', 'student_id': ObjectId('6716851a006e5bbd6332fbb8'), 'present': True}\n",
      "{'_id': ObjectId('672a542aad62c101c634d7dc'), 'date': '2024-11-05', 'student_id': ObjectId('6716851a006e5bbd6332fbb8'), 'present': True}\n",
      "{'_id': ObjectId('672a58b1ad62c101c634d8d8'), 'date': '2024-11-05', 'student_id': ObjectId('67168736006e5bbd6332fbbb'), 'present': True}\n",
      "{'_id': ObjectId('672b6db1ad62c101c634d9a5'), 'date': '2024-11-04', 'student_id': ObjectId('6716851a006e5bbd6332fbb8'), 'present': True}\n",
      "{'_id': ObjectId('672b6f10ad62c101c634d9f9'), 'date': '2024-11-04', 'student_id': ObjectId('672a4e0520279b4ae161b7d3'), 'present': True}\n"
     ]
    }
   ],
   "source": [
    "# Fetch all attendance records\n",
    "all_records = attendance.find()\n",
    "for record in all_records:\n",
    "    print(record)\n"
   ]
  },
  {
   "cell_type": "code",
   "execution_count": 8,
   "id": "a34dd3a0-50a7-4532-a361-75cef7a3b3c3",
   "metadata": {},
   "outputs": [
    {
     "name": "stdout",
     "output_type": "stream",
     "text": [
      "{'_id': ObjectId('672637e3ad62c101c634cc7e'), 'student_id': ObjectId('6716851a006e5bbd6332fbb8'), 'date': '2024-10-05', 'present': True}\n",
      "{'_id': ObjectId('67264215ad62c101c634cec6'), 'date': '2024-11-02', 'student_id': ObjectId('6716851a006e5bbd6332fbb8'), 'present': True}\n",
      "{'_id': ObjectId('672a4e00ad62c101c634d687'), 'date': '2024-11-03', 'student_id': ObjectId('6716851a006e5bbd6332fbb8'), 'present': True}\n",
      "{'_id': ObjectId('672a542aad62c101c634d7dc'), 'date': '2024-11-05', 'student_id': ObjectId('6716851a006e5bbd6332fbb8'), 'present': True}\n",
      "{'_id': ObjectId('672b6db1ad62c101c634d9a5'), 'date': '2024-11-04', 'student_id': ObjectId('6716851a006e5bbd6332fbb8'), 'present': True}\n"
     ]
    }
   ],
   "source": [
    "# get the attendance of specific student\n",
    "\n",
    "from bson import ObjectId\n",
    "\n",
    "student_id = '6716851a006e5bbd6332fbb8'\n",
    "student_id = ObjectId(student_id)\n",
    "\n",
    "# Query all attendance records for this student\n",
    "student_records = attendance.find({'student_id': student_id})\n",
    "\n",
    "# Display each attendance record for the student\n",
    "for record in student_records:\n",
    "    print(record)\n",
    "\n"
   ]
  },
  {
   "cell_type": "code",
   "execution_count": 32,
   "id": "0293a57a-7c51-4291-925d-bf7b73b375d2",
   "metadata": {},
   "outputs": [
    {
     "name": "stdout",
     "output_type": "stream",
     "text": [
      "Student ID: 6716851a006e5bbd6332fbb8\n"
     ]
    }
   ],
   "source": [
    "# get the id of specific student, then use it to get that student attendance\n",
    "student = students.find_one({\"name\": \"Umair\"})\n",
    "if student:\n",
    "    student_id = student['_id']\n",
    "    print(f\"Student ID: {student_id}\")\n",
    "else:\n",
    "    print(\"Student not found.\")\n"
   ]
  },
  {
   "cell_type": "code",
   "execution_count": null,
   "id": "5c9073e8-0b3f-4590-8002-5df3bc74b80a",
   "metadata": {},
   "outputs": [],
   "source": []
  }
 ],
 "metadata": {
  "kernelspec": {
   "display_name": "Python 3 (ipykernel)",
   "language": "python",
   "name": "python3"
  },
  "language_info": {
   "codemirror_mode": {
    "name": "ipython",
    "version": 3
   },
   "file_extension": ".py",
   "mimetype": "text/x-python",
   "name": "python",
   "nbconvert_exporter": "python",
   "pygments_lexer": "ipython3",
   "version": "3.11.7"
  }
 },
 "nbformat": 4,
 "nbformat_minor": 5
}
